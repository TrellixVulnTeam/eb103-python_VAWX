{
 "cells": [
  {
   "cell_type": "code",
   "execution_count": 1,
   "metadata": {},
   "outputs": [],
   "source": [
    "import pymysql\n",
    "\n",
    "host = '127.0.0.1'\n",
    "port = 3306\n",
    "user = 'root'\n",
    "passwd = 'root'\n",
    "db = 'TESTDB'\n",
    "charset = 'utf8mb4'\n",
    "\n",
    "conn = pymysql.connect(host=host,\n",
    "                      port=port,\n",
    "                      user=user,\n",
    "                      passwd=passwd,\n",
    "                      db=db,\n",
    "                      charset=charset)\n",
    "\n",
    "cursor = conn.cursor()"
   ]
  },
  {
   "cell_type": "code",
   "execution_count": 2,
   "metadata": {},
   "outputs": [
    {
     "data": {
      "text/plain": [
       "{'001': {'ID': '001',\n",
       "  'Name': 'Jay',\n",
       "  'DeptId': '001',\n",
       "  'Age': '50',\n",
       "  'Gender': 'M',\n",
       "  'Salary': '56000'},\n",
       " '002': {'ID': '002',\n",
       "  'Name': 'Jenny',\n",
       "  'DeptId': '001',\n",
       "  'Age': '30',\n",
       "  'Gender': 'F',\n",
       "  'Salary': '47000'},\n",
       " '003': {'ID': '003',\n",
       "  'Name': 'Rick',\n",
       "  'DeptId': '002',\n",
       "  'Age': '45',\n",
       "  'Gender': 'M',\n",
       "  'Salary': '50000'},\n",
       " '004': {'ID': '004',\n",
       "  'Name': 'David',\n",
       "  'DeptId': '003',\n",
       "  'Age': '47',\n",
       "  'Gender': 'M',\n",
       "  'Salary': '45000'},\n",
       " '005': {'ID': '005',\n",
       "  'Name': 'Jake',\n",
       "  'DeptId': '002',\n",
       "  'Age': '32',\n",
       "  'Gender': 'M',\n",
       "  'Salary': '55000'},\n",
       " '006': {'ID': '006',\n",
       "  'Name': 'Abby',\n",
       "  'DeptId': '001',\n",
       "  'Age': '25',\n",
       "  'Gender': 'F',\n",
       "  'Salary': '40000'},\n",
       " '007': {'ID': '007',\n",
       "  'Name': 'Trump',\n",
       "  'DeptId': '003',\n",
       "  'Age': '80',\n",
       "  'Gender': 'M',\n",
       "  'Salary': '90000'},\n",
       " '008': {'ID': '008',\n",
       "  'Name': 'Eric',\n",
       "  'DeptId': '001',\n",
       "  'Age': '26',\n",
       "  'Gender': 'M',\n",
       "  'Salary': '85000'}}"
      ]
     },
     "execution_count": 2,
     "metadata": {},
     "output_type": "execute_result"
    }
   ],
   "source": [
    "import json\n",
    "with open('./staff.json', 'r') as f:\n",
    "    jsondata = json.loads(f.read())\n",
    "jsondata"
   ]
  },
  {
   "cell_type": "code",
   "execution_count": 5,
   "metadata": {},
   "outputs": [
    {
     "data": {
      "text/plain": [
       "[('001', 'Jay', '001', '50', 'M', '56000', '2020-07-19 11:15:59'),\n",
       " ('002', 'Jenny', '001', '30', 'F', '47000', '2020-07-19 11:15:59'),\n",
       " ('003', 'Rick', '002', '45', 'M', '50000', '2020-07-19 11:15:59'),\n",
       " ('004', 'David', '003', '47', 'M', '45000', '2020-07-19 11:15:59'),\n",
       " ('005', 'Jake', '002', '32', 'M', '55000', '2020-07-19 11:15:59'),\n",
       " ('006', 'Abby', '001', '25', 'F', '40000', '2020-07-19 11:15:59'),\n",
       " ('007', 'Trump', '003', '80', 'M', '90000', '2020-07-19 11:15:59'),\n",
       " ('008', 'Eric', '001', '26', 'M', '85000', '2020-07-19 11:15:59')]"
      ]
     },
     "execution_count": 5,
     "metadata": {},
     "output_type": "execute_result"
    }
   ],
   "source": [
    "import time\n",
    "dt = time.strftime('%Y-%m-%d %H:%M:%S')\n",
    "[tuple(jsondata[r].values()) + (dt, ) for r in jsondata]"
   ]
  },
  {
   "cell_type": "code",
   "execution_count": 7,
   "metadata": {},
   "outputs": [
    {
     "data": {
      "text/plain": [
       "{'ID': '001',\n",
       " 'Name': 'Jay',\n",
       " 'DeptId': '001',\n",
       " 'Age': '50',\n",
       " 'Gender': 'M',\n",
       " 'Salary': '56000'}"
      ]
     },
     "execution_count": 7,
     "metadata": {},
     "output_type": "execute_result"
    }
   ],
   "source": [
    "jsondata['001']"
   ]
  },
  {
   "cell_type": "code",
   "execution_count": 8,
   "metadata": {},
   "outputs": [
    {
     "data": {
      "text/plain": [
       "dict_values(['001', 'Jay', '001', '50', 'M', '56000'])"
      ]
     },
     "execution_count": 8,
     "metadata": {},
     "output_type": "execute_result"
    }
   ],
   "source": [
    "jsondata['001'].values()"
   ]
  },
  {
   "cell_type": "code",
   "execution_count": 9,
   "metadata": {},
   "outputs": [
    {
     "data": {
      "text/plain": [
       "dict_keys(['ID', 'Name', 'DeptId', 'Age', 'Gender', 'Salary'])"
      ]
     },
     "execution_count": 9,
     "metadata": {},
     "output_type": "execute_result"
    }
   ],
   "source": [
    "jsondata['001'].keys()"
   ]
  },
  {
   "cell_type": "code",
   "execution_count": 12,
   "metadata": {},
   "outputs": [
    {
     "name": "stdout",
     "output_type": "stream",
     "text": [
      "dict_values(['001', 'Jay', '001', '50', 'M', '56000'])\n",
      "dict_values(['002', 'Jenny', '001', '30', 'F', '47000'])\n",
      "dict_values(['003', 'Rick', '002', '45', 'M', '50000'])\n",
      "dict_values(['004', 'David', '003', '47', 'M', '45000'])\n",
      "dict_values(['005', 'Jake', '002', '32', 'M', '55000'])\n",
      "dict_values(['006', 'Abby', '001', '25', 'F', '40000'])\n",
      "dict_values(['007', 'Trump', '003', '80', 'M', '90000'])\n",
      "dict_values(['008', 'Eric', '001', '26', 'M', '85000'])\n"
     ]
    }
   ],
   "source": [
    "for k in jsondata:\n",
    "    print(jsondata[k].values())"
   ]
  },
  {
   "cell_type": "code",
   "execution_count": 13,
   "metadata": {},
   "outputs": [
    {
     "name": "stdout",
     "output_type": "stream",
     "text": [
      "('001', 'Jay', '001', '50', 'M', '56000')\n",
      "('002', 'Jenny', '001', '30', 'F', '47000')\n",
      "('003', 'Rick', '002', '45', 'M', '50000')\n",
      "('004', 'David', '003', '47', 'M', '45000')\n",
      "('005', 'Jake', '002', '32', 'M', '55000')\n",
      "('006', 'Abby', '001', '25', 'F', '40000')\n",
      "('007', 'Trump', '003', '80', 'M', '90000')\n",
      "('008', 'Eric', '001', '26', 'M', '85000')\n"
     ]
    }
   ],
   "source": [
    "for k in jsondata:\n",
    "    tmp_result = jsondata[k].values()\n",
    "    print(tuple(tmp_result))"
   ]
  },
  {
   "cell_type": "code",
   "execution_count": 14,
   "metadata": {},
   "outputs": [
    {
     "data": {
      "text/plain": [
       "[('001', 'Jay', '001', '50', 'M', '56000'),\n",
       " ('002', 'Jenny', '001', '30', 'F', '47000'),\n",
       " ('003', 'Rick', '002', '45', 'M', '50000'),\n",
       " ('004', 'David', '003', '47', 'M', '45000'),\n",
       " ('005', 'Jake', '002', '32', 'M', '55000'),\n",
       " ('006', 'Abby', '001', '25', 'F', '40000'),\n",
       " ('007', 'Trump', '003', '80', 'M', '90000'),\n",
       " ('008', 'Eric', '001', '26', 'M', '85000')]"
      ]
     },
     "execution_count": 14,
     "metadata": {},
     "output_type": "execute_result"
    }
   ],
   "source": [
    "emp_list = []\n",
    "for k in jsondata:\n",
    "    tmp_result = jsondata[k].values()\n",
    "    emp_list.append(tuple(tmp_result))\n",
    "\n",
    "emp_list"
   ]
  },
  {
   "cell_type": "code",
   "execution_count": 15,
   "metadata": {},
   "outputs": [
    {
     "data": {
      "text/plain": [
       "[('001', 'Jay', '001', '50', 'M', '56000', '2020-07-19 11:22:49'),\n",
       " ('002', 'Jenny', '001', '30', 'F', '47000', '2020-07-19 11:22:49'),\n",
       " ('003', 'Rick', '002', '45', 'M', '50000', '2020-07-19 11:22:49'),\n",
       " ('004', 'David', '003', '47', 'M', '45000', '2020-07-19 11:22:49'),\n",
       " ('005', 'Jake', '002', '32', 'M', '55000', '2020-07-19 11:22:49'),\n",
       " ('006', 'Abby', '001', '25', 'F', '40000', '2020-07-19 11:22:49'),\n",
       " ('007', 'Trump', '003', '80', 'M', '90000', '2020-07-19 11:22:49'),\n",
       " ('008', 'Eric', '001', '26', 'M', '85000', '2020-07-19 11:22:49')]"
      ]
     },
     "execution_count": 15,
     "metadata": {},
     "output_type": "execute_result"
    }
   ],
   "source": [
    "import time\n",
    "dt = time.strftime('%Y-%m-%d %H:%M:%S') # string\n",
    "emp_list = []\n",
    "for k in jsondata:\n",
    "    tmp_result = jsondata[k].values()\n",
    "    tmp_tuple = tuple(tmp_result) + (dt, )\n",
    "    emp_list.append(tmp_tuple)\n",
    "\n",
    "emp_list"
   ]
  },
  {
   "cell_type": "code",
   "execution_count": 16,
   "metadata": {},
   "outputs": [],
   "source": [
    "sql = \"\"\"\n",
    "insert into Staff (ID, Name, DeptId, Age, Gender, Salary, recordDt)\n",
    "values (%s, %s, %s, %s, %s, %s, %s);\n",
    "\"\"\""
   ]
  },
  {
   "cell_type": "code",
   "execution_count": 17,
   "metadata": {},
   "outputs": [
    {
     "data": {
      "text/plain": [
       "8"
      ]
     },
     "execution_count": 17,
     "metadata": {},
     "output_type": "execute_result"
    }
   ],
   "source": [
    "cursor.executemany(sql, emp_list)"
   ]
  },
  {
   "cell_type": "code",
   "execution_count": 18,
   "metadata": {},
   "outputs": [],
   "source": [
    "conn.commit()"
   ]
  },
  {
   "cell_type": "code",
   "execution_count": 19,
   "metadata": {},
   "outputs": [],
   "source": [
    "cursor.close()\n",
    "conn.close()"
   ]
  },
  {
   "cell_type": "code",
   "execution_count": null,
   "metadata": {},
   "outputs": [],
   "source": []
  }
 ],
 "metadata": {
  "kernelspec": {
   "display_name": "Python 3",
   "language": "python",
   "name": "python3"
  },
  "language_info": {
   "codemirror_mode": {
    "name": "ipython",
    "version": 3
   },
   "file_extension": ".py",
   "mimetype": "text/x-python",
   "name": "python",
   "nbconvert_exporter": "python",
   "pygments_lexer": "ipython3",
   "version": "3.7.0"
  }
 },
 "nbformat": 4,
 "nbformat_minor": 4
}
