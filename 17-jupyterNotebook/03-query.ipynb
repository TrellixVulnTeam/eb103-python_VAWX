{
 "cells": [
  {
   "cell_type": "code",
   "execution_count": 1,
   "metadata": {},
   "outputs": [],
   "source": [
    "import pymysql\n",
    "\n",
    "host = '127.0.0.1'\n",
    "port = 3306\n",
    "user = 'root'\n",
    "passwd = 'root'\n",
    "db = 'TESTDB'\n",
    "charset = 'utf8mb4'\n",
    "\n",
    "conn = pymysql.connect(host=host,\n",
    "                      port=port,\n",
    "                      user=user,\n",
    "                      passwd=passwd,\n",
    "                      db=db,\n",
    "                      charset=charset)\n",
    "\n",
    "cursor = conn.cursor()"
   ]
  },
  {
   "cell_type": "code",
   "execution_count": 2,
   "metadata": {},
   "outputs": [],
   "source": [
    "sql = \"\"\"\n",
    "select * from Staff;\n",
    "\"\"\""
   ]
  },
  {
   "cell_type": "code",
   "execution_count": 3,
   "metadata": {},
   "outputs": [
    {
     "data": {
      "text/plain": [
       "8"
      ]
     },
     "execution_count": 3,
     "metadata": {},
     "output_type": "execute_result"
    }
   ],
   "source": [
    "cursor.execute(sql)"
   ]
  },
  {
   "cell_type": "code",
   "execution_count": 4,
   "metadata": {},
   "outputs": [
    {
     "data": {
      "text/plain": [
       "('001',\n",
       " 'Jay',\n",
       " '001',\n",
       " 50,\n",
       " 'M',\n",
       " 56000,\n",
       " datetime.datetime(2020, 7, 19, 11, 22, 49))"
      ]
     },
     "execution_count": 4,
     "metadata": {},
     "output_type": "execute_result"
    }
   ],
   "source": [
    "cursor.fetchone()"
   ]
  },
  {
   "cell_type": "code",
   "execution_count": 5,
   "metadata": {},
   "outputs": [
    {
     "data": {
      "text/plain": [
       "('002',\n",
       " 'Jenny',\n",
       " '001',\n",
       " 30,\n",
       " 'F',\n",
       " 47000,\n",
       " datetime.datetime(2020, 7, 19, 11, 22, 49))"
      ]
     },
     "execution_count": 5,
     "metadata": {},
     "output_type": "execute_result"
    }
   ],
   "source": [
    "cursor.fetchone()"
   ]
  },
  {
   "cell_type": "code",
   "execution_count": 6,
   "metadata": {},
   "outputs": [
    {
     "data": {
      "text/plain": [
       "('003',\n",
       " 'Rick',\n",
       " '002',\n",
       " 45,\n",
       " 'M',\n",
       " 50000,\n",
       " datetime.datetime(2020, 7, 19, 11, 22, 49))"
      ]
     },
     "execution_count": 6,
     "metadata": {},
     "output_type": "execute_result"
    }
   ],
   "source": [
    "cursor.fetchone()"
   ]
  },
  {
   "cell_type": "code",
   "execution_count": 7,
   "metadata": {},
   "outputs": [
    {
     "data": {
      "text/plain": [
       "('004',\n",
       " 'David',\n",
       " '003',\n",
       " 47,\n",
       " 'M',\n",
       " 45000,\n",
       " datetime.datetime(2020, 7, 19, 11, 22, 49))"
      ]
     },
     "execution_count": 7,
     "metadata": {},
     "output_type": "execute_result"
    }
   ],
   "source": [
    "cursor.fetchone()"
   ]
  },
  {
   "cell_type": "code",
   "execution_count": 8,
   "metadata": {},
   "outputs": [
    {
     "data": {
      "text/plain": [
       "('008',\n",
       " 'Eric',\n",
       " '001',\n",
       " 26,\n",
       " 'M',\n",
       " 85000,\n",
       " datetime.datetime(2020, 7, 19, 11, 22, 49))"
      ]
     },
     "execution_count": 8,
     "metadata": {},
     "output_type": "execute_result"
    }
   ],
   "source": [
    "cursor.fetchone()\n",
    "cursor.fetchone()\n",
    "cursor.fetchone()\n",
    "cursor.fetchone()"
   ]
  },
  {
   "cell_type": "code",
   "execution_count": 9,
   "metadata": {},
   "outputs": [],
   "source": [
    "cursor.fetchone()"
   ]
  },
  {
   "cell_type": "code",
   "execution_count": 10,
   "metadata": {},
   "outputs": [
    {
     "data": {
      "text/plain": [
       "8"
      ]
     },
     "execution_count": 10,
     "metadata": {},
     "output_type": "execute_result"
    }
   ],
   "source": [
    "cursor.execute(sql)"
   ]
  },
  {
   "cell_type": "code",
   "execution_count": 11,
   "metadata": {},
   "outputs": [
    {
     "data": {
      "text/plain": [
       "(('001',\n",
       "  'Jay',\n",
       "  '001',\n",
       "  50,\n",
       "  'M',\n",
       "  56000,\n",
       "  datetime.datetime(2020, 7, 19, 11, 22, 49)),\n",
       " ('002',\n",
       "  'Jenny',\n",
       "  '001',\n",
       "  30,\n",
       "  'F',\n",
       "  47000,\n",
       "  datetime.datetime(2020, 7, 19, 11, 22, 49)),\n",
       " ('003',\n",
       "  'Rick',\n",
       "  '002',\n",
       "  45,\n",
       "  'M',\n",
       "  50000,\n",
       "  datetime.datetime(2020, 7, 19, 11, 22, 49)),\n",
       " ('004',\n",
       "  'David',\n",
       "  '003',\n",
       "  47,\n",
       "  'M',\n",
       "  45000,\n",
       "  datetime.datetime(2020, 7, 19, 11, 22, 49)),\n",
       " ('005',\n",
       "  'Jake',\n",
       "  '002',\n",
       "  32,\n",
       "  'M',\n",
       "  55000,\n",
       "  datetime.datetime(2020, 7, 19, 11, 22, 49)),\n",
       " ('006',\n",
       "  'Abby',\n",
       "  '001',\n",
       "  25,\n",
       "  'F',\n",
       "  40000,\n",
       "  datetime.datetime(2020, 7, 19, 11, 22, 49)),\n",
       " ('007',\n",
       "  'Trump',\n",
       "  '003',\n",
       "  80,\n",
       "  'M',\n",
       "  90000,\n",
       "  datetime.datetime(2020, 7, 19, 11, 22, 49)),\n",
       " ('008',\n",
       "  'Eric',\n",
       "  '001',\n",
       "  26,\n",
       "  'M',\n",
       "  85000,\n",
       "  datetime.datetime(2020, 7, 19, 11, 22, 49)))"
      ]
     },
     "execution_count": 11,
     "metadata": {},
     "output_type": "execute_result"
    }
   ],
   "source": [
    "cursor.fetchall()"
   ]
  },
  {
   "cell_type": "code",
   "execution_count": 12,
   "metadata": {},
   "outputs": [
    {
     "data": {
      "text/plain": [
       "()"
      ]
     },
     "execution_count": 12,
     "metadata": {},
     "output_type": "execute_result"
    }
   ],
   "source": [
    "cursor.fetchall()"
   ]
  },
  {
   "cell_type": "code",
   "execution_count": 13,
   "metadata": {},
   "outputs": [],
   "source": [
    "cursor.execute(sql)\n",
    "data = cursor.fetchall()"
   ]
  },
  {
   "cell_type": "code",
   "execution_count": 14,
   "metadata": {
    "scrolled": true
   },
   "outputs": [
    {
     "data": {
      "text/plain": [
       "(('001',\n",
       "  'Jay',\n",
       "  '001',\n",
       "  50,\n",
       "  'M',\n",
       "  56000,\n",
       "  datetime.datetime(2020, 7, 19, 11, 22, 49)),\n",
       " ('002',\n",
       "  'Jenny',\n",
       "  '001',\n",
       "  30,\n",
       "  'F',\n",
       "  47000,\n",
       "  datetime.datetime(2020, 7, 19, 11, 22, 49)),\n",
       " ('003',\n",
       "  'Rick',\n",
       "  '002',\n",
       "  45,\n",
       "  'M',\n",
       "  50000,\n",
       "  datetime.datetime(2020, 7, 19, 11, 22, 49)),\n",
       " ('004',\n",
       "  'David',\n",
       "  '003',\n",
       "  47,\n",
       "  'M',\n",
       "  45000,\n",
       "  datetime.datetime(2020, 7, 19, 11, 22, 49)),\n",
       " ('005',\n",
       "  'Jake',\n",
       "  '002',\n",
       "  32,\n",
       "  'M',\n",
       "  55000,\n",
       "  datetime.datetime(2020, 7, 19, 11, 22, 49)),\n",
       " ('006',\n",
       "  'Abby',\n",
       "  '001',\n",
       "  25,\n",
       "  'F',\n",
       "  40000,\n",
       "  datetime.datetime(2020, 7, 19, 11, 22, 49)),\n",
       " ('007',\n",
       "  'Trump',\n",
       "  '003',\n",
       "  80,\n",
       "  'M',\n",
       "  90000,\n",
       "  datetime.datetime(2020, 7, 19, 11, 22, 49)),\n",
       " ('008',\n",
       "  'Eric',\n",
       "  '001',\n",
       "  26,\n",
       "  'M',\n",
       "  85000,\n",
       "  datetime.datetime(2020, 7, 19, 11, 22, 49)))"
      ]
     },
     "execution_count": 14,
     "metadata": {},
     "output_type": "execute_result"
    }
   ],
   "source": [
    "data"
   ]
  },
  {
   "cell_type": "code",
   "execution_count": 15,
   "metadata": {
    "scrolled": true
   },
   "outputs": [
    {
     "data": {
      "text/plain": [
       "(('001',\n",
       "  'Jay',\n",
       "  '001',\n",
       "  50,\n",
       "  'M',\n",
       "  56000,\n",
       "  datetime.datetime(2020, 7, 19, 11, 22, 49)),\n",
       " ('002',\n",
       "  'Jenny',\n",
       "  '001',\n",
       "  30,\n",
       "  'F',\n",
       "  47000,\n",
       "  datetime.datetime(2020, 7, 19, 11, 22, 49)),\n",
       " ('003',\n",
       "  'Rick',\n",
       "  '002',\n",
       "  45,\n",
       "  'M',\n",
       "  50000,\n",
       "  datetime.datetime(2020, 7, 19, 11, 22, 49)),\n",
       " ('004',\n",
       "  'David',\n",
       "  '003',\n",
       "  47,\n",
       "  'M',\n",
       "  45000,\n",
       "  datetime.datetime(2020, 7, 19, 11, 22, 49)),\n",
       " ('005',\n",
       "  'Jake',\n",
       "  '002',\n",
       "  32,\n",
       "  'M',\n",
       "  55000,\n",
       "  datetime.datetime(2020, 7, 19, 11, 22, 49)),\n",
       " ('006',\n",
       "  'Abby',\n",
       "  '001',\n",
       "  25,\n",
       "  'F',\n",
       "  40000,\n",
       "  datetime.datetime(2020, 7, 19, 11, 22, 49)),\n",
       " ('007',\n",
       "  'Trump',\n",
       "  '003',\n",
       "  80,\n",
       "  'M',\n",
       "  90000,\n",
       "  datetime.datetime(2020, 7, 19, 11, 22, 49)),\n",
       " ('008',\n",
       "  'Eric',\n",
       "  '001',\n",
       "  26,\n",
       "  'M',\n",
       "  85000,\n",
       "  datetime.datetime(2020, 7, 19, 11, 22, 49)))"
      ]
     },
     "execution_count": 15,
     "metadata": {},
     "output_type": "execute_result"
    }
   ],
   "source": [
    "data"
   ]
  },
  {
   "cell_type": "code",
   "execution_count": 16,
   "metadata": {},
   "outputs": [],
   "source": [
    "cursor.close()\n",
    "conn.close()"
   ]
  },
  {
   "cell_type": "code",
   "execution_count": null,
   "metadata": {},
   "outputs": [],
   "source": []
  }
 ],
 "metadata": {
  "kernelspec": {
   "display_name": "Python 3",
   "language": "python",
   "name": "python3"
  },
  "language_info": {
   "codemirror_mode": {
    "name": "ipython",
    "version": 3
   },
   "file_extension": ".py",
   "mimetype": "text/x-python",
   "name": "python",
   "nbconvert_exporter": "python",
   "pygments_lexer": "ipython3",
   "version": "3.7.0"
  }
 },
 "nbformat": 4,
 "nbformat_minor": 4
}
